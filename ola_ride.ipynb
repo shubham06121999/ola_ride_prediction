{
 "cells": [
  {
   "cell_type": "code",
   "execution_count": 90,
   "metadata": {},
   "outputs": [],
   "source": [
    "import pickle\n",
    "import numpy as np\n",
    "import seaborn as sns\n",
    "import matplotlib.pyplot as plt \n",
    "import pandas as pd\n",
    "%matplotlib inline\n"
   ]
  },
  {
   "cell_type": "code",
   "execution_count": 91,
   "metadata": {},
   "outputs": [],
   "source": [
    "df = pd.read_csv('taxi.csv')"
   ]
  },
  {
   "cell_type": "code",
   "execution_count": 92,
   "metadata": {},
   "outputs": [
    {
     "data": {
      "text/html": [
       "<div>\n",
       "<style scoped>\n",
       "    .dataframe tbody tr th:only-of-type {\n",
       "        vertical-align: middle;\n",
       "    }\n",
       "\n",
       "    .dataframe tbody tr th {\n",
       "        vertical-align: top;\n",
       "    }\n",
       "\n",
       "    .dataframe thead th {\n",
       "        text-align: right;\n",
       "    }\n",
       "</style>\n",
       "<table border=\"1\" class=\"dataframe\">\n",
       "  <thead>\n",
       "    <tr style=\"text-align: right;\">\n",
       "      <th></th>\n",
       "      <th>Priceperweek</th>\n",
       "      <th>Population</th>\n",
       "      <th>Monthlyincome</th>\n",
       "      <th>Averageparkingpermonth</th>\n",
       "      <th>Numberofweeklyriders</th>\n",
       "    </tr>\n",
       "  </thead>\n",
       "  <tbody>\n",
       "    <tr>\n",
       "      <td>0</td>\n",
       "      <td>15</td>\n",
       "      <td>1800000</td>\n",
       "      <td>5800</td>\n",
       "      <td>50</td>\n",
       "      <td>192000</td>\n",
       "    </tr>\n",
       "    <tr>\n",
       "      <td>1</td>\n",
       "      <td>15</td>\n",
       "      <td>1790000</td>\n",
       "      <td>6200</td>\n",
       "      <td>50</td>\n",
       "      <td>190400</td>\n",
       "    </tr>\n",
       "    <tr>\n",
       "      <td>2</td>\n",
       "      <td>15</td>\n",
       "      <td>1780000</td>\n",
       "      <td>6400</td>\n",
       "      <td>60</td>\n",
       "      <td>191200</td>\n",
       "    </tr>\n",
       "    <tr>\n",
       "      <td>3</td>\n",
       "      <td>25</td>\n",
       "      <td>1778000</td>\n",
       "      <td>6500</td>\n",
       "      <td>60</td>\n",
       "      <td>177600</td>\n",
       "    </tr>\n",
       "    <tr>\n",
       "      <td>4</td>\n",
       "      <td>25</td>\n",
       "      <td>1750000</td>\n",
       "      <td>6550</td>\n",
       "      <td>60</td>\n",
       "      <td>176800</td>\n",
       "    </tr>\n",
       "  </tbody>\n",
       "</table>\n",
       "</div>"
      ],
      "text/plain": [
       "   Priceperweek  Population  Monthlyincome  Averageparkingpermonth  \\\n",
       "0            15     1800000           5800                      50   \n",
       "1            15     1790000           6200                      50   \n",
       "2            15     1780000           6400                      60   \n",
       "3            25     1778000           6500                      60   \n",
       "4            25     1750000           6550                      60   \n",
       "\n",
       "   Numberofweeklyriders  \n",
       "0                192000  \n",
       "1                190400  \n",
       "2                191200  \n",
       "3                177600  \n",
       "4                176800  "
      ]
     },
     "execution_count": 92,
     "metadata": {},
     "output_type": "execute_result"
    }
   ],
   "source": [
    "df.head()"
   ]
  },
  {
   "cell_type": "code",
   "execution_count": 93,
   "metadata": {},
   "outputs": [
    {
     "data": {
      "text/html": [
       "<div>\n",
       "<style scoped>\n",
       "    .dataframe tbody tr th:only-of-type {\n",
       "        vertical-align: middle;\n",
       "    }\n",
       "\n",
       "    .dataframe tbody tr th {\n",
       "        vertical-align: top;\n",
       "    }\n",
       "\n",
       "    .dataframe thead th {\n",
       "        text-align: right;\n",
       "    }\n",
       "</style>\n",
       "<table border=\"1\" class=\"dataframe\">\n",
       "  <thead>\n",
       "    <tr style=\"text-align: right;\">\n",
       "      <th></th>\n",
       "      <th>Priceperweek</th>\n",
       "      <th>Population</th>\n",
       "      <th>Monthlyincome</th>\n",
       "      <th>Averageparkingpermonth</th>\n",
       "      <th>Numberofweeklyriders</th>\n",
       "    </tr>\n",
       "  </thead>\n",
       "  <tbody>\n",
       "    <tr>\n",
       "      <td>count</td>\n",
       "      <td>27.000000</td>\n",
       "      <td>2.700000e+01</td>\n",
       "      <td>27.000000</td>\n",
       "      <td>27.000000</td>\n",
       "      <td>27.000000</td>\n",
       "    </tr>\n",
       "    <tr>\n",
       "      <td>mean</td>\n",
       "      <td>49.925926</td>\n",
       "      <td>1.680111e+06</td>\n",
       "      <td>11063.259259</td>\n",
       "      <td>107.037037</td>\n",
       "      <td>160026.074074</td>\n",
       "    </tr>\n",
       "    <tr>\n",
       "      <td>std</td>\n",
       "      <td>27.627921</td>\n",
       "      <td>6.780307e+04</td>\n",
       "      <td>3416.627944</td>\n",
       "      <td>45.346089</td>\n",
       "      <td>21301.097303</td>\n",
       "    </tr>\n",
       "    <tr>\n",
       "      <td>min</td>\n",
       "      <td>15.000000</td>\n",
       "      <td>1.590000e+06</td>\n",
       "      <td>5800.000000</td>\n",
       "      <td>50.000000</td>\n",
       "      <td>115696.000000</td>\n",
       "    </tr>\n",
       "    <tr>\n",
       "      <td>25%</td>\n",
       "      <td>27.500000</td>\n",
       "      <td>1.617500e+06</td>\n",
       "      <td>8400.000000</td>\n",
       "      <td>75.000000</td>\n",
       "      <td>149600.000000</td>\n",
       "    </tr>\n",
       "    <tr>\n",
       "      <td>50%</td>\n",
       "      <td>40.000000</td>\n",
       "      <td>1.695000e+06</td>\n",
       "      <td>11600.000000</td>\n",
       "      <td>100.000000</td>\n",
       "      <td>161600.000000</td>\n",
       "    </tr>\n",
       "    <tr>\n",
       "      <td>75%</td>\n",
       "      <td>75.000000</td>\n",
       "      <td>1.725000e+06</td>\n",
       "      <td>13888.000000</td>\n",
       "      <td>140.000000</td>\n",
       "      <td>176000.000000</td>\n",
       "    </tr>\n",
       "    <tr>\n",
       "      <td>max</td>\n",
       "      <td>102.000000</td>\n",
       "      <td>1.800000e+06</td>\n",
       "      <td>16200.000000</td>\n",
       "      <td>200.000000</td>\n",
       "      <td>192000.000000</td>\n",
       "    </tr>\n",
       "  </tbody>\n",
       "</table>\n",
       "</div>"
      ],
      "text/plain": [
       "       Priceperweek    Population  Monthlyincome  Averageparkingpermonth  \\\n",
       "count     27.000000  2.700000e+01      27.000000               27.000000   \n",
       "mean      49.925926  1.680111e+06   11063.259259              107.037037   \n",
       "std       27.627921  6.780307e+04    3416.627944               45.346089   \n",
       "min       15.000000  1.590000e+06    5800.000000               50.000000   \n",
       "25%       27.500000  1.617500e+06    8400.000000               75.000000   \n",
       "50%       40.000000  1.695000e+06   11600.000000              100.000000   \n",
       "75%       75.000000  1.725000e+06   13888.000000              140.000000   \n",
       "max      102.000000  1.800000e+06   16200.000000              200.000000   \n",
       "\n",
       "       Numberofweeklyriders  \n",
       "count             27.000000  \n",
       "mean          160026.074074  \n",
       "std            21301.097303  \n",
       "min           115696.000000  \n",
       "25%           149600.000000  \n",
       "50%           161600.000000  \n",
       "75%           176000.000000  \n",
       "max           192000.000000  "
      ]
     },
     "execution_count": 93,
     "metadata": {},
     "output_type": "execute_result"
    }
   ],
   "source": [
    "df.describe()"
   ]
  },
  {
   "cell_type": "code",
   "execution_count": 94,
   "metadata": {},
   "outputs": [
    {
     "data": {
      "text/plain": [
       "Priceperweek                  1348\n",
       "Population                45363000\n",
       "Monthlyincome               298708\n",
       "Averageparkingpermonth        2890\n",
       "Numberofweeklyriders       4320704\n",
       "dtype: int64"
      ]
     },
     "execution_count": 94,
     "metadata": {},
     "output_type": "execute_result"
    }
   ],
   "source": [
    "df.sum()"
   ]
  },
  {
   "cell_type": "markdown",
   "metadata": {},
   "source": [
    "TO check is the data has null values "
   ]
  },
  {
   "cell_type": "code",
   "execution_count": 95,
   "metadata": {},
   "outputs": [
    {
     "data": {
      "text/plain": [
       "Priceperweek              0\n",
       "Population                0\n",
       "Monthlyincome             0\n",
       "Averageparkingpermonth    0\n",
       "Numberofweeklyriders      0\n",
       "dtype: int64"
      ]
     },
     "execution_count": 95,
     "metadata": {},
     "output_type": "execute_result"
    }
   ],
   "source": [
    "df.isnull().sum()"
   ]
  },
  {
   "cell_type": "markdown",
   "metadata": {},
   "source": [
    " "
   ]
  },
  {
   "cell_type": "code",
   "execution_count": null,
   "metadata": {},
   "outputs": [],
   "source": []
  },
  {
   "cell_type": "code",
   "execution_count": 98,
   "metadata": {},
   "outputs": [
    {
     "data": {
      "text/plain": [
       "array([192000, 190400, 191200, 177600, 176800, 178400, 180800, 175200,\n",
       "       174400, 173920, 172800, 163200, 161600, 161600, 160800, 159200,\n",
       "       148800, 115696, 147200, 150400, 152000, 136000, 126240, 123888,\n",
       "       126080, 151680, 152800], dtype=int64)"
      ]
     },
     "execution_count": 98,
     "metadata": {},
     "output_type": "execute_result"
    }
   ],
   "source": [
    "x = df.iloc[:,0:-1].values\n",
    "y = df['Numberofweeklyriders'].values\n",
    "y"
   ]
  },
  {
   "cell_type": "markdown",
   "metadata": {},
   "source": [
    "# Data Visualization "
   ]
  },
  {
   "cell_type": "code",
   "execution_count": 99,
   "metadata": {},
   "outputs": [
    {
     "data": {
      "text/plain": [
       "<matplotlib.axes._subplots.AxesSubplot at 0x19748f54748>"
      ]
     },
     "execution_count": 99,
     "metadata": {},
     "output_type": "execute_result"
    },
    {
     "data": {
      "image/png": "[encoded data removed]",
      "text/plain": [
       "<Figure size 432x288 with 2 Axes>"
      ]
     },
     "metadata": {
      "needs_background": "light"
     },
     "output_type": "display_data"
    }
   ],
   "source": [
    "sns.heatmap(df)"
   ]
  },
  {
   "cell_type": "code",
   "execution_count": null,
   "metadata": {},
   "outputs": [],
   "source": []
  },
  {
   "cell_type": "code",
   "execution_count": 100,
   "metadata": {},
   "outputs": [
    {
     "data": {
      "image/png": "[encoded data removed]",
      "text/plain": [
       "<Figure size 864x720 with 1 Axes>"
      ]
     },
     "metadata": {
      "needs_background": "light"
     },
     "output_type": "display_data"
    }
   ],
   "source": [
    "plt.subplots(figsize=(12, 10))\n",
    "\n",
    "plt.hist(df, histtype='bar')\n",
    "\n",
    "plt.show()"
   ]
  },
  {
   "cell_type": "code",
   "execution_count": null,
   "metadata": {},
   "outputs": [],
   "source": []
  },
  {
   "cell_type": "code",
   "execution_count": 101,
   "metadata": {},
   "outputs": [
    {
     "data": {
      "text/plain": [
       "([array([3., 1., 0., 0., 0., 0., 0., 0., 0., 1.]),\n",
       "  array([3., 1., 0., 0., 0., 0., 0., 0., 0., 1.]),\n",
       "  array([3., 1., 0., 0., 0., 0., 0., 0., 0., 1.]),\n",
       "  array([4., 0., 0., 0., 0., 0., 0., 0., 0., 1.]),\n",
       "  array([4., 0., 0., 0., 0., 0., 0., 0., 0., 1.]),\n",
       "  array([4., 0., 0., 0., 0., 0., 0., 0., 0., 1.]),\n",
       "  array([3., 1., 0., 0., 0., 0., 0., 0., 0., 1.]),\n",
       "  array([4., 0., 0., 0., 0., 0., 0., 0., 0., 1.]),\n",
       "  array([4., 0., 0., 0., 0., 0., 0., 0., 0., 1.]),\n",
       "  array([4., 0., 0., 0., 0., 0., 0., 0., 0., 1.]),\n",
       "  array([4., 0., 0., 0., 0., 0., 0., 0., 0., 1.]),\n",
       "  array([4., 0., 0., 0., 0., 0., 0., 0., 0., 1.]),\n",
       "  array([4., 0., 0., 0., 0., 0., 0., 0., 0., 1.]),\n",
       "  array([4., 0., 0., 0., 0., 0., 0., 0., 0., 1.]),\n",
       "  array([4., 0., 0., 0., 0., 0., 0., 0., 0., 1.]),\n",
       "  array([4., 0., 0., 0., 0., 0., 0., 0., 0., 1.]),\n",
       "  array([4., 0., 0., 0., 0., 0., 0., 0., 0., 1.]),\n",
       "  array([4., 0., 0., 0., 0., 0., 0., 0., 0., 1.]),\n",
       "  array([4., 0., 0., 0., 0., 0., 0., 0., 0., 1.]),\n",
       "  array([4., 0., 0., 0., 0., 0., 0., 0., 1., 0.]),\n",
       "  array([4., 0., 0., 0., 0., 0., 0., 0., 1., 0.]),\n",
       "  array([4., 0., 0., 0., 0., 0., 0., 0., 1., 0.]),\n",
       "  array([4., 0., 0., 0., 0., 0., 0., 0., 1., 0.]),\n",
       "  array([4., 0., 0., 0., 0., 0., 0., 0., 1., 0.]),\n",
       "  array([4., 0., 0., 0., 0., 0., 0., 0., 1., 0.]),\n",
       "  array([4., 0., 0., 0., 0., 0., 0., 0., 1., 0.]),\n",
       "  array([4., 0., 0., 0., 0., 0., 0., 0., 1., 0.])],\n",
       " array([1.5000000e+01, 1.8001350e+05, 3.6001200e+05, 5.4001050e+05,\n",
       "        7.2000900e+05, 9.0000750e+05, 1.0800060e+06, 1.2600045e+06,\n",
       "        1.4400030e+06, 1.6200015e+06, 1.8000000e+06]),\n",
       " <a list of 27 Lists of Patches objects>)"
      ]
     },
     "execution_count": 101,
     "metadata": {},
     "output_type": "execute_result"
    },
    {
     "data": {
      "image/png": "[encoded data removed]",
      "text/plain": [
       "<Figure size 864x864 with 1 Axes>"
      ]
     },
     "metadata": {
      "needs_background": "light"
     },
     "output_type": "display_data"
    }
   ],
   "source": [
    "plt.figure(figsize=(12, 12))\n",
    "\n",
    "plt.hist(df)"
   ]
  },
  {
   "cell_type": "code",
   "execution_count": 102,
   "metadata": {},
   "outputs": [
    {
     "data": {
      "text/plain": [
       "<matplotlib.axes._subplots.AxesSubplot at 0x1974b73e0c8>"
      ]
     },
     "execution_count": 102,
     "metadata": {},
     "output_type": "execute_result"
    },
    {
     "data": {
      "image/png": "[encoded data removed]",
      "text/plain": [
       "<Figure size 432x288 with 1 Axes>"
      ]
     },
     "metadata": {
      "needs_background": "light"
     },
     "output_type": "display_data"
    }
   ],
   "source": [
    "sns.boxplot(df)"
   ]
  },
  {
   "cell_type": "code",
   "execution_count": 103,
   "metadata": {},
   "outputs": [],
   "source": [
    "#spliting the data using train_test_split()\n",
    "from sklearn.model_selection import train_test_split"
   ]
  },
  {
   "cell_type": "code",
   "execution_count": 104,
   "metadata": {},
   "outputs": [],
   "source": [
    "x_train, x_test,y_train, y_test = train_test_split(x,y, test_size=0.2)"
   ]
  },
  {
   "cell_type": "code",
   "execution_count": 111,
   "metadata": {},
   "outputs": [],
   "source": [
    "#importing LinearRegression from sklearn\n",
    "from sklearn.linear_model import LinearRegression\n"
   ]
  },
  {
   "cell_type": "code",
   "execution_count": 113,
   "metadata": {},
   "outputs": [],
   "source": [
    "#creating a model\n",
    "reg = LinearRegression()"
   ]
  },
  {
   "cell_type": "code",
   "execution_count": 114,
   "metadata": {},
   "outputs": [
    {
     "data": {
      "text/plain": [
       "LinearRegression(copy_X=True, fit_intercept=True, n_jobs=None, normalize=False)"
      ]
     },
     "execution_count": 114,
     "metadata": {},
     "output_type": "execute_result"
    }
   ],
   "source": [
    "reg.fit(x_train,y_train)"
   ]
  },
  {
   "cell_type": "code",
   "execution_count": 116,
   "metadata": {},
   "outputs": [
    {
     "name": "stdout",
     "output_type": "stream",
     "text": [
      "Train score 0.9125131827619559\n",
      "Test score 0.9641132850965358\n"
     ]
    }
   ],
   "source": [
    "#to cheack the score of model\n",
    "print('Train score', reg.score(x_train,y_train))\n",
    "print('Test score', reg.score(x_test,y_test))"
   ]
  },
  {
   "cell_type": "code",
   "execution_count": 117,
   "metadata": {},
   "outputs": [],
   "source": [
    "#creating a pickle model\n",
    "pickle.dump(reg,open('taxi.pkl','wb'))\n"
   ]
  },
  {
   "cell_type": "code",
   "execution_count": 118,
   "metadata": {},
   "outputs": [],
   "source": [
    "model = pickle.load(open('taxi.pkl','rb'))"
   ]
  },
  {
   "cell_type": "code",
   "execution_count": 119,
   "metadata": {},
   "outputs": [
    {
     "data": {
      "text/plain": [
       "array([48793.49026036])"
      ]
     },
     "execution_count": 119,
     "metadata": {},
     "output_type": "execute_result"
    }
   ],
   "source": [
    "model.predict([[80,177000,6000,85]])"
   ]
  },
  {
   "cell_type": "code",
   "execution_count": null,
   "metadata": {},
   "outputs": [],
   "source": []
  }
 ],
 "metadata": {
  "kernelspec": {
   "display_name": "Python 3",
   "language": "python",
   "name": "python3"
  },
  "language_info": {
   "codemirror_mode": {
    "name": "ipython",
    "version": 3
   },
   "file_extension": ".py",
   "mimetype": "text/x-python",
   "name": "python",
   "nbconvert_exporter": "python",
   "pygments_lexer": "ipython3",
   "version": "3.7.4"
  }
 },
 "nbformat": 4,
 "nbformat_minor": 2
}
